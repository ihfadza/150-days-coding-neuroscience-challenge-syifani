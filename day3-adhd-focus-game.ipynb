{
 "cells": [
  {
   "cell_type": "markdown",
   "id": "fa386980",
   "metadata": {},
   "source": [
    "# Day 3: ADHD Focus Game"
   ]
  },
  {
   "cell_type": "code",
   "execution_count": 1,
   "id": "e44a9d69",
   "metadata": {},
   "outputs": [],
   "source": [
    "import tkinter as tk\n",
    "import random\n",
    "\n",
    "# Window\n",
    "win = tk.Tk()\n",
    "win.title(\"🐱 Cat Focus Trainer\")\n",
    "canvas = tk.Canvas(win, width=600, height=300, bg=\"lightblue\")\n",
    "canvas.pack()\n",
    "\n",
    "# Kucing\n",
    "cat = canvas.create_text(30, 150, text=\"🐱\", font=(\"Arial\", 30))\n",
    "\n",
    "# Rintangan\n",
    "dog = canvas.create_text(600, 150, text=\"🐶\", font=(\"Arial\", 30))\n",
    "\n",
    "# Skor dan fokus\n",
    "score = 0\n",
    "focus = random.randint(0, 100)\n",
    "score_text = canvas.create_text(10, 10, anchor='nw', text=f\"Score: {score}\", font=(\"Arial\", 12))\n",
    "focus_text = canvas.create_text(10, 30, anchor='nw', text=f\"Focus: {focus}\", font=(\"Arial\", 12))\n",
    "\n",
    "def update():\n",
    "    global score, focus\n",
    "    # Fokus simulasi\n",
    "    focus = random.randint(0, 100)\n",
    "    canvas.itemconfig(focus_text, text=f\"Focus: {focus}\")\n",
    "\n",
    "    # Kecepatan tergantung fokus\n",
    "    speed = 1 if focus < 30 else 4 if focus > 70 else 2\n",
    "\n",
    "    # Gerak kucing\n",
    "    canvas.move(cat, speed, 0)\n",
    "    cat_pos = canvas.coords(cat)\n",
    "\n",
    "    # Gerak anjing (rintangan) ke kiri\n",
    "    canvas.move(dog, -3, 0)\n",
    "    dog_pos = canvas.coords(dog)\n",
    "\n",
    "    # Reset anjing kalau keluar layar\n",
    "    if dog_pos[0] < 0:\n",
    "        canvas.coords(dog, 600, 150)\n",
    "\n",
    "    # Deteksi tabrakan\n",
    "    if abs(cat_pos[0] - dog_pos[0]) < 30:\n",
    "        canvas.itemconfig(score_text, text=\"Game Over!\")\n",
    "        return\n",
    "\n",
    "    # Kucing sampai kanan → skor +1\n",
    "    if cat_pos[0] > 600:\n",
    "        score += 1\n",
    "        canvas.coords(cat, 30, 150)\n",
    "        canvas.itemconfig(score_text, text=f\"Score: {score}\")\n",
    "\n",
    "    win.after(100, update)\n",
    "\n",
    "update()\n",
    "win.mainloop()\n"
   ]
  },
  {
   "cell_type": "code",
   "execution_count": null,
   "id": "91aca5e4",
   "metadata": {},
   "outputs": [],
   "source": []
  },
  {
   "cell_type": "code",
   "execution_count": null,
   "id": "feafb2b6",
   "metadata": {},
   "outputs": [],
   "source": []
  }
 ],
 "metadata": {
  "kernelspec": {
   "display_name": "base",
   "language": "python",
   "name": "python3"
  },
  "language_info": {
   "codemirror_mode": {
    "name": "ipython",
    "version": 3
   },
   "file_extension": ".py",
   "mimetype": "text/x-python",
   "name": "python",
   "nbconvert_exporter": "python",
   "pygments_lexer": "ipython3",
   "version": "3.12.7"
  }
 },
 "nbformat": 4,
 "nbformat_minor": 5
}
