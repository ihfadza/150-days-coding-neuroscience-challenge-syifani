{
 "cells": [
  {
   "cell_type": "markdown",
   "id": "fa386980",
   "metadata": {},
   "source": [
    "# Day 3: ADHD Focus Game"
   ]
  },
  {
   "cell_type": "code",
   "execution_count": 2,
   "id": "e44a9d69",
   "metadata": {},
   "outputs": [],
   "source": [
    "import tkinter as tk\n",
    "import random\n",
    "\n",
    "# Setup window\n",
    "win = tk.Tk()\n",
    "win.title(\"🐱 Cat Focus Trainer – WASD Control\")\n",
    "canvas = tk.Canvas(win, width=600, height=300, bg=\"lightyellow\")\n",
    "canvas.pack()\n",
    "\n",
    "# Entities\n",
    "cat = canvas.create_text(30, 150, text=\"🐱\", font=(\"Arial\", 30))\n",
    "dog = canvas.create_text(600, random.randint(50, 250), text=\"🐶\", font=(\"Arial\", 30))\n",
    "\n",
    "# Score\n",
    "score = 0\n",
    "score_text = canvas.create_text(10, 10, anchor='nw', text=f\"Score: {score}\", font=(\"Arial\", 12))\n",
    "\n",
    "# Movement\n",
    "move_x = 0\n",
    "move_y = 0\n",
    "\n",
    "def key_press(event):\n",
    "    global move_x, move_y\n",
    "    if event.char == 'w':\n",
    "        move_x, move_y = 0, -10\n",
    "    elif event.char == 's':\n",
    "        move_x, move_y = 0, 10\n",
    "    elif event.char == 'a':\n",
    "        move_x, move_y = -10, 0\n",
    "    elif event.char == 'd':\n",
    "        move_x, move_y = 10, 0\n",
    "\n",
    "def update():\n",
    "    global score\n",
    "    canvas.move(cat, move_x, move_y)\n",
    "    canvas.move(dog, -5, 0)\n",
    "\n",
    "    cat_pos = canvas.coords(cat)\n",
    "    dog_pos = canvas.coords(dog)\n",
    "\n",
    "    # Game over: tabrakan\n",
    "    if abs(cat_pos[0] - dog_pos[0]) < 30 and abs(cat_pos[1] - dog_pos[1]) < 30:\n",
    "        canvas.itemconfig(score_text, text=\"Game Over!\")\n",
    "        return\n",
    "\n",
    "    # Dog keluar → reset\n",
    "    if dog_pos[0] < 0:\n",
    "        canvas.coords(dog, 600, random.randint(50, 250))\n",
    "\n",
    "    # Kucing sampai kanan → skor +1\n",
    "    if cat_pos[0] > 600:\n",
    "        score += 1\n",
    "        canvas.coords(cat, 30, 150)\n",
    "        canvas.itemconfig(score_text, text=f\"Score: {score}\")\n",
    "\n",
    "    # Batas layar (opsional)\n",
    "    x, y = cat_pos\n",
    "    if x < 0: canvas.coords(cat, 0, y)\n",
    "    if x > 600: canvas.coords(cat, 600, y)\n",
    "    if y < 0: canvas.coords(cat, x, 0)\n",
    "    if y > 300: canvas.coords(cat, x, 300)\n",
    "\n",
    "    win.after(50, update)\n",
    "\n",
    "win.bind(\"<Key>\", key_press)\n",
    "update()\n",
    "win.mainloop()\n"
   ]
  },
  {
   "cell_type": "code",
   "execution_count": null,
   "id": "91aca5e4",
   "metadata": {},
   "outputs": [],
   "source": []
  },
  {
   "cell_type": "code",
   "execution_count": null,
   "id": "feafb2b6",
   "metadata": {},
   "outputs": [],
   "source": []
  }
 ],
 "metadata": {
  "kernelspec": {
   "display_name": "base",
   "language": "python",
   "name": "python3"
  },
  "language_info": {
   "codemirror_mode": {
    "name": "ipython",
    "version": 3
   },
   "file_extension": ".py",
   "mimetype": "text/x-python",
   "name": "python",
   "nbconvert_exporter": "python",
   "pygments_lexer": "ipython3",
   "version": "3.12.7"
  }
 },
 "nbformat": 4,
 "nbformat_minor": 5
}
